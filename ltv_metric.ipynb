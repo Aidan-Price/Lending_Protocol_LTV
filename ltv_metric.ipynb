{
 "cells": [
  {
   "cell_type": "markdown",
   "id": "dc8699a3",
   "metadata": {},
   "source": [
    "# Loan-To-Value Metric for Lending Protocols\n",
    "\n",
    "Aidan Price"
   ]
  },
  {
   "cell_type": "code",
   "execution_count": 1,
   "id": "db12296a",
   "metadata": {},
   "outputs": [],
   "source": [
    "#Importing Modules\n",
    "\n",
    "import requests\n",
    "import json\n",
    "import pandas as pd\n",
    "import datetime"
   ]
  },
  {
   "cell_type": "code",
   "execution_count": 2,
   "id": "c9f46ec0",
   "metadata": {},
   "outputs": [],
   "source": [
    "#Defining list of lending protocols\n",
    "\n",
    "protocols = ['compound-v2-ethereum','aave-v3-ethereum','abracadabra-money-ethereum']"
   ]
  },
  {
   "cell_type": "code",
   "execution_count": 3,
   "id": "069c11cb",
   "metadata": {},
   "outputs": [],
   "source": [
    "# GraphQL Query\n",
    "\n",
    "query = '''{\n",
    "  accounts(where: {borrows_: {account_not: null}}) {\n",
    "    borrows {\n",
    "      amountUSD\n",
    "    }\n",
    "    deposits {\n",
    "      amountUSD\n",
    "    }\n",
    "  }\n",
    "}\n",
    "'''"
   ]
  },
  {
   "cell_type": "code",
   "execution_count": 4,
   "id": "7ff13886",
   "metadata": {},
   "outputs": [],
   "source": [
    "# Defining lists\n",
    "\n",
    "borrowed_list=[]\n",
    "deposit_list = []\n",
    "ltv_list =[]\n",
    "\n",
    "# Defining ltv function to extract and add borrowed/deposited amounts\n",
    "\n",
    "def ltv(protocol, protocol_query):\n",
    "  \n",
    "  borrows_sum = 0\n",
    "  deposits_sum = 0\n",
    "\n",
    "  # Borrows\n",
    "  for account in protocol_query['borrows']:\n",
    "\n",
    "    for entry in account:\n",
    "      borrows_sum += float(entry['amountUSD'])\n",
    "\n",
    "  # Deposits (Collateral)\n",
    "  for account in protocol_query['deposits']:\n",
    "\n",
    "    for entry in account:\n",
    "      deposits_sum += float(entry['amountUSD'])\n",
    "\n",
    "\n",
    "  print(f'Amount Borrowed USD: {borrows_sum}')\n",
    "  print(f'Total Collateral USD: {deposits_sum}')\n",
    "  LTV = borrows_sum/deposits_sum\n",
    "  print(f'LTV Ratio: {LTV}')\n",
    "\n",
    "\n",
    "  if len(borrowed_list) <= 3:\n",
    "    borrowed_list.append(borrows_sum)\n",
    "  if len(borrowed_list) <= 3:\n",
    "    deposit_list.append(deposits_sum)\n",
    "  \n",
    "  if len(borrowed_list) <= 3:\n",
    "    ltv_list.append(LTV)\n",
    "\n",
    "# ltv(example_data)"
   ]
  },
  {
   "cell_type": "code",
   "execution_count": 5,
   "id": "6fd4d1aa",
   "metadata": {},
   "outputs": [
    {
     "name": "stdout",
     "output_type": "stream",
     "text": [
      "-------------------- compound-v2-ethereum --------------------\n",
      "https://api.thegraph.com/subgraphs/name/messari/compound-v2-ethereum\n",
      "Amount Borrowed USD: 42295106.95651911\n",
      "Total Collateral USD: 69650491.49550605\n",
      "LTV Ratio: 0.6072477889010741\n",
      "-------------------- aave-v3-ethereum --------------------\n",
      "https://api.thegraph.com/subgraphs/name/messari/aave-v3-ethereum\n",
      "Amount Borrowed USD: 9653886.316913754\n",
      "Total Collateral USD: 19876409.747374058\n",
      "LTV Ratio: 0.4856956784254844\n",
      "-------------------- abracadabra-money-ethereum --------------------\n",
      "https://api.thegraph.com/subgraphs/name/messari/abracadabra-money-ethereum\n",
      "Amount Borrowed USD: 22461342.320941545\n",
      "Total Collateral USD: 33018504.391098075\n",
      "LTV Ratio: 0.6802652856377472\n",
      "['compound-v2-ethereum', 'aave-v3-ethereum', 'abracadabra-money-ethereum']\n",
      "[42295106.95651911, 9653886.316913754, 22461342.320941545]\n",
      "[69650491.49550605, 19876409.747374058, 33018504.391098075]\n",
      "[0.6072477889010741, 0.4856956784254844, 0.6802652856377472]\n"
     ]
    }
   ],
   "source": [
    "for proto in protocols:\n",
    "\n",
    "  print('--'*10, proto,'--'*10)\n",
    "  \n",
    "  # Defining api path\n",
    "  url_path = f\"https://api.thegraph.com/subgraphs/name/messari/{proto}\"\n",
    "  print(url_path)\n",
    "\n",
    "  # Part 2\n",
    "  # make the request\n",
    "  r = requests.post(url_path, json={'query': query})\n",
    "  # load result into json\n",
    "\n",
    "  json_data = json.loads(r.text) \n",
    "\n",
    "  # Part 3\n",
    "  data = pd.DataFrame(json_data['data']['accounts'])\n",
    "  # check result\n",
    "  # print(data)\n",
    "\n",
    "  ltv(proto,data)\n",
    "\n",
    "print(protocols)\n",
    "print(borrowed_list)\n",
    "print(deposit_list)\n",
    "print(ltv_list)"
   ]
  },
  {
   "cell_type": "code",
   "execution_count": 7,
   "id": "a9da6ec2",
   "metadata": {
    "scrolled": false
   },
   "outputs": [],
   "source": [
    "# Change into Dataframe\n",
    "\n",
    "#To make it look prettier in dashboard\n",
    "protocol_names = ['Compound V2 Ethereum','Aave V3 Ethereum','Abracadbra Money Ethereum']\n",
    "\n",
    "ltv_df = pd.DataFrame({\n",
    "                      'Protocols': protocol_names,\n",
    "                      'Amount_Borrowed_USD': borrowed_list,\n",
    "                      'Total_Collateral_USD':deposit_list,\n",
    "                      'LTV_Ratio':ltv_list \n",
    "                       })\n",
    "ltv_df.head()\n",
    "\n",
    "# Download as csv\n",
    "ltv_df.to_csv('Lending_Protocols_ltv.csv', index= False)"
   ]
  }
 ],
 "metadata": {
  "kernelspec": {
   "display_name": "Python 3 (ipykernel)",
   "language": "python",
   "name": "python3"
  },
  "language_info": {
   "codemirror_mode": {
    "name": "ipython",
    "version": 3
   },
   "file_extension": ".py",
   "mimetype": "text/x-python",
   "name": "python",
   "nbconvert_exporter": "python",
   "pygments_lexer": "ipython3",
   "version": "3.9.13"
  }
 },
 "nbformat": 4,
 "nbformat_minor": 5
}
